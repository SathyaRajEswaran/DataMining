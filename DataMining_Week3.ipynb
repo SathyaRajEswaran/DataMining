{
 "cells": [
  {
   "cell_type": "markdown",
   "id": "c4a41111-2a78-4fa4-9092-fbe94f77eb9d",
   "metadata": {},
   "source": [
    "/*  ============================================   \n",
    "Title: Week 3: Sentiment Analysis and Preprocessing Text\n",
    "Author: Catie Williams\n",
    "Date: 28 Sep 2025 \n",
    "Created By: Sathya Raj Eswaran\n",
    "Description: Sentiment Analysis and Preprocessing Text\n",
    "=========================================== */  "
   ]
  },
  {
   "cell_type": "code",
   "execution_count": 53,
   "id": "c6011ff6-bb44-4b1c-9f87-e661d7b5337c",
   "metadata": {},
   "outputs": [],
   "source": [
    "# Importing Libraries\n",
    "import pandas as pd\n",
    "from textblob import TextBlob\n",
    "from sklearn.metrics import accuracy_score\n",
    "import nltk\n",
    "from nltk.sentiment.vader import SentimentIntensityAnalyzer\n",
    "import re\n",
    "from nltk.corpus import stopwords\n",
    "from nltk.stem.porter import PorterStemmer\n",
    "from sklearn.feature_extraction.text import CountVectorizer, TfidfVectorizer"
   ]
  },
  {
   "cell_type": "code",
   "execution_count": 55,
   "id": "e21947d5-0051-456c-92f7-3f00f03587a0",
   "metadata": {},
   "outputs": [
    {
     "name": "stdout",
     "output_type": "stream",
     "text": [
      "\n",
      "First 5 rows of the DataFrame:\n",
      "       id  sentiment                                             review\n",
      "0  5814_8          1  With all this stuff going down at the moment w...\n",
      "1  2381_9          1  \\The Classic War of the Worlds\\\" by Timothy Hi...\n",
      "2  7759_3          0  The film starts with a manager (Nicholas Bell)...\n",
      "3  3630_4          0  It must be assumed that those who praised this...\n",
      "4  9495_8          1  Superbly trashy and wondrously unpretentious 8...\n"
     ]
    }
   ],
   "source": [
    "#Import the movie review data\n",
    "# Reading *.tsv file\n",
    "df = pd.read_csv(\"data\\\\labeledTrainData.tsv\", sep='\\t')\n",
    "\n",
    "# Check if the data is loaded properly by displaying the top 5 rows\n",
    "print(\"\\nFirst 5 rows of the DataFrame:\")\n",
    "print(df.head())"
   ]
  },
  {
   "cell_type": "code",
   "execution_count": 56,
   "id": "3b721caa-9857-468a-be76-8ccb15d68ef0",
   "metadata": {},
   "outputs": [
    {
     "data": {
      "text/html": [
       "<div>\n",
       "<style scoped>\n",
       "    .dataframe tbody tr th:only-of-type {\n",
       "        vertical-align: middle;\n",
       "    }\n",
       "\n",
       "    .dataframe tbody tr th {\n",
       "        vertical-align: top;\n",
       "    }\n",
       "\n",
       "    .dataframe thead th {\n",
       "        text-align: right;\n",
       "    }\n",
       "</style>\n",
       "<table border=\"1\" class=\"dataframe\">\n",
       "  <thead>\n",
       "    <tr style=\"text-align: right;\">\n",
       "      <th></th>\n",
       "      <th>id</th>\n",
       "      <th>sentiment</th>\n",
       "      <th>review</th>\n",
       "    </tr>\n",
       "  </thead>\n",
       "  <tbody>\n",
       "    <tr>\n",
       "      <th>0</th>\n",
       "      <td>5814_8</td>\n",
       "      <td>1</td>\n",
       "      <td>With all this stuff going down at the moment w...</td>\n",
       "    </tr>\n",
       "    <tr>\n",
       "      <th>1</th>\n",
       "      <td>2381_9</td>\n",
       "      <td>1</td>\n",
       "      <td>\\The Classic War of the Worlds\\\" by Timothy Hi...</td>\n",
       "    </tr>\n",
       "    <tr>\n",
       "      <th>2</th>\n",
       "      <td>7759_3</td>\n",
       "      <td>0</td>\n",
       "      <td>The film starts with a manager (Nicholas Bell)...</td>\n",
       "    </tr>\n",
       "    <tr>\n",
       "      <th>3</th>\n",
       "      <td>3630_4</td>\n",
       "      <td>0</td>\n",
       "      <td>It must be assumed that those who praised this...</td>\n",
       "    </tr>\n",
       "    <tr>\n",
       "      <th>4</th>\n",
       "      <td>9495_8</td>\n",
       "      <td>1</td>\n",
       "      <td>Superbly trashy and wondrously unpretentious 8...</td>\n",
       "    </tr>\n",
       "  </tbody>\n",
       "</table>\n",
       "</div>"
      ],
      "text/plain": [
       "       id  sentiment                                             review\n",
       "0  5814_8          1  With all this stuff going down at the moment w...\n",
       "1  2381_9          1  \\The Classic War of the Worlds\\\" by Timothy Hi...\n",
       "2  7759_3          0  The film starts with a manager (Nicholas Bell)...\n",
       "3  3630_4          0  It must be assumed that those who praised this...\n",
       "4  9495_8          1  Superbly trashy and wondrously unpretentious 8..."
      ]
     },
     "execution_count": 56,
     "metadata": {},
     "output_type": "execute_result"
    }
   ],
   "source": [
    "df.head(5)"
   ]
  },
  {
   "cell_type": "code",
   "execution_count": 58,
   "id": "931c17b7-330a-48d0-b90f-cda1ec2e026b",
   "metadata": {},
   "outputs": [
    {
     "name": "stdout",
     "output_type": "stream",
     "text": [
      "Number of positive and negative reviews:\n",
      "Positive Reviews (1): 12500\n",
      "Negative Reviews (0): 12500\n"
     ]
    }
   ],
   "source": [
    "# Count the number of positive and negative reviews\n",
    "Sent_Count = df['sentiment'].value_counts()\n",
    "# Print the positive and negative reviews\n",
    "print(\"Number of positive and negative reviews:\")\n",
    "print(f\"Positive Reviews (1): {Sent_Count[1]}\")\n",
    "print(f\"Negative Reviews (0): {Sent_Count[0]}\")"
   ]
  },
  {
   "cell_type": "code",
   "execution_count": 61,
   "id": "cff1afdd-413d-4fbe-9f7c-20e970bfc9a5",
   "metadata": {},
   "outputs": [
    {
     "data": {
      "text/html": [
       "<div>\n",
       "<style scoped>\n",
       "    .dataframe tbody tr th:only-of-type {\n",
       "        vertical-align: middle;\n",
       "    }\n",
       "\n",
       "    .dataframe tbody tr th {\n",
       "        vertical-align: top;\n",
       "    }\n",
       "\n",
       "    .dataframe thead th {\n",
       "        text-align: right;\n",
       "    }\n",
       "</style>\n",
       "<table border=\"1\" class=\"dataframe\">\n",
       "  <thead>\n",
       "    <tr style=\"text-align: right;\">\n",
       "      <th></th>\n",
       "      <th>id</th>\n",
       "      <th>sentiment</th>\n",
       "      <th>review</th>\n",
       "    </tr>\n",
       "  </thead>\n",
       "  <tbody>\n",
       "    <tr>\n",
       "      <th>0</th>\n",
       "      <td>5814_8</td>\n",
       "      <td>1</td>\n",
       "      <td>With all this stuff going down at the moment w...</td>\n",
       "    </tr>\n",
       "    <tr>\n",
       "      <th>1</th>\n",
       "      <td>2381_9</td>\n",
       "      <td>1</td>\n",
       "      <td>\\The Classic War of the Worlds\\\" by Timothy Hi...</td>\n",
       "    </tr>\n",
       "    <tr>\n",
       "      <th>2</th>\n",
       "      <td>7759_3</td>\n",
       "      <td>0</td>\n",
       "      <td>The film starts with a manager (Nicholas Bell)...</td>\n",
       "    </tr>\n",
       "    <tr>\n",
       "      <th>3</th>\n",
       "      <td>3630_4</td>\n",
       "      <td>0</td>\n",
       "      <td>It must be assumed that those who praised this...</td>\n",
       "    </tr>\n",
       "    <tr>\n",
       "      <th>4</th>\n",
       "      <td>9495_8</td>\n",
       "      <td>1</td>\n",
       "      <td>Superbly trashy and wondrously unpretentious 8...</td>\n",
       "    </tr>\n",
       "    <tr>\n",
       "      <th>5</th>\n",
       "      <td>8196_8</td>\n",
       "      <td>1</td>\n",
       "      <td>I dont know why people think this is such a ba...</td>\n",
       "    </tr>\n",
       "    <tr>\n",
       "      <th>6</th>\n",
       "      <td>7166_2</td>\n",
       "      <td>0</td>\n",
       "      <td>This movie could have been very good, but come...</td>\n",
       "    </tr>\n",
       "    <tr>\n",
       "      <th>7</th>\n",
       "      <td>10633_1</td>\n",
       "      <td>0</td>\n",
       "      <td>I watched this video at a friend's house. I'm ...</td>\n",
       "    </tr>\n",
       "    <tr>\n",
       "      <th>8</th>\n",
       "      <td>319_1</td>\n",
       "      <td>0</td>\n",
       "      <td>A friend of mine bought this film for £1, and ...</td>\n",
       "    </tr>\n",
       "    <tr>\n",
       "      <th>9</th>\n",
       "      <td>8713_10</td>\n",
       "      <td>1</td>\n",
       "      <td>&lt;br /&gt;&lt;br /&gt;This movie is full of references. ...</td>\n",
       "    </tr>\n",
       "  </tbody>\n",
       "</table>\n",
       "</div>"
      ],
      "text/plain": [
       "        id  sentiment                                             review\n",
       "0   5814_8          1  With all this stuff going down at the moment w...\n",
       "1   2381_9          1  \\The Classic War of the Worlds\\\" by Timothy Hi...\n",
       "2   7759_3          0  The film starts with a manager (Nicholas Bell)...\n",
       "3   3630_4          0  It must be assumed that those who praised this...\n",
       "4   9495_8          1  Superbly trashy and wondrously unpretentious 8...\n",
       "5   8196_8          1  I dont know why people think this is such a ba...\n",
       "6   7166_2          0  This movie could have been very good, but come...\n",
       "7  10633_1          0  I watched this video at a friend's house. I'm ...\n",
       "8    319_1          0  A friend of mine bought this film for £1, and ...\n",
       "9  8713_10          1  <br /><br />This movie is full of references. ..."
      ]
     },
     "execution_count": 61,
     "metadata": {},
     "output_type": "execute_result"
    }
   ],
   "source": [
    "# Display the first 10 rows of the dataframe to preview \n",
    "df.head(10)"
   ]
  },
  {
   "cell_type": "code",
   "execution_count": 63,
   "id": "1dd8fdc6-0467-4efc-91ca-6767a615b924",
   "metadata": {},
   "outputs": [
    {
     "name": "stdout",
     "output_type": "stream",
     "text": [
      "Classifying movie reviews using TextBlob\n"
     ]
    }
   ],
   "source": [
    "# TextBlob Sentiment Analysis\n",
    "# Analyzing the sentiment using TextBlob. If polarity >= 0 is 'Positive', else 'Negative'.\n",
    "def get_textblob_sentiment(text):\n",
    "    analysis = TextBlob(text)\n",
    "    if analysis.sentiment.polarity >= 0:\n",
    "        return 'Positive'\n",
    "    else:\n",
    "        return 'Negative'\n",
    "\n",
    "# Applying the sentiment analysis function to the 'review' column\n",
    "print(\"Classifying movie reviews using TextBlob\")\n",
    "df['TextBlob_Sentiment'] = df['review'].apply(get_textblob_sentiment)\n"
   ]
  },
  {
   "cell_type": "code",
   "execution_count": 64,
   "id": "e94f4eef-98d7-4729-b3ce-2d08281c82c7",
   "metadata": {},
   "outputs": [
    {
     "name": "stdout",
     "output_type": "stream",
     "text": [
      "\n",
      "First 5 rows with the new TextBlob_Sentiment column:\n",
      "                                              review  sentiment  \\\n",
      "0  With all this stuff going down at the moment w...          1   \n",
      "1  \\The Classic War of the Worlds\\\" by Timothy Hi...          1   \n",
      "2  The film starts with a manager (Nicholas Bell)...          0   \n",
      "3  It must be assumed that those who praised this...          0   \n",
      "4  Superbly trashy and wondrously unpretentious 8...          1   \n",
      "\n",
      "  TextBlob_Sentiment  \n",
      "0           Positive  \n",
      "1           Positive  \n",
      "2           Negative  \n",
      "3           Positive  \n",
      "4           Negative  \n",
      "\n",
      "--- Summary of TextBlob Sentiment Classification ---\n",
      "TextBlob_Sentiment\n",
      "Positive    19017\n",
      "Negative     5983\n",
      "Name: count, dtype: int64\n"
     ]
    }
   ],
   "source": [
    "\n",
    "# Display Results\n",
    "print(\"\\nFirst 5 rows with the new TextBlob_Sentiment column:\")\n",
    "print(df[['review', 'sentiment', 'TextBlob_Sentiment']].head())\n",
    "print(\"\\n--- Summary of TextBlob Sentiment Classification ---\")\n",
    "print(df['TextBlob_Sentiment'].value_counts())"
   ]
  },
  {
   "cell_type": "code",
   "execution_count": 65,
   "id": "9bd98cd6-4e39-4370-afd5-ed3273a7d742",
   "metadata": {},
   "outputs": [],
   "source": [
    "# TextBlob Accuracy\n",
    "\n",
    "# Mapping the original numerical sentiment to labels for comparison\n",
    "df['true_sentiment_text'] = df['sentiment'].map({1: 'Positive', 0: 'Negative'})\n",
    "\n",
    "# Calculating the accuracy by comparing the true labels to TextBlob's predictions\n",
    "accuracy = accuracy_score(df['true_sentiment_text'], df['TextBlob_Sentiment'])\n"
   ]
  },
  {
   "cell_type": "code",
   "execution_count": 66,
   "id": "9b9bdd4f-4b36-4ab9-bbb7-f5b4163d739d",
   "metadata": {},
   "outputs": [
    {
     "name": "stdout",
     "output_type": "stream",
     "text": [
      "\n",
      " Accuracy of the Model\n",
      "The accuracy of the TextBlob model is: 0.69\n"
     ]
    }
   ],
   "source": [
    "# Display Results\n",
    "print(\"\\n Accuracy of the Model\")\n",
    "print(f\"The accuracy of the TextBlob model is: {accuracy:.2f}\")"
   ]
  },
  {
   "cell_type": "markdown",
   "id": "2a789e8c-121f-4edd-a73b-df91fcfc4d5e",
   "metadata": {},
   "source": [
    "Model Performance Analysis: TextBlob Sentiment Classification"
   ]
  },
  {
   "cell_type": "markdown",
   "id": "66959b11-6dd9-4c4a-b1e8-f65df164855e",
   "metadata": {},
   "source": [
    "We assessed the TextBlob model's accuracy by comparing its sentiment predictions to the dataset's true labels. With a perfectly balanced dataset (50% positive, 50% negative), the random chance baseline is 50%. The TextBlob model, utilizing its inherent sentiment lexicon, achieved an accuracy of 69%. This performance is a statistically significant improvement over random guessing, confirming its value as an untrained yet effective classifier for movie review sentiment. The calculated accuracy metric, visible in the script's output, serves as the key indicator of its practical utility."
   ]
  },
  {
   "cell_type": "code",
   "execution_count": 69,
   "id": "eea58bd0-d148-463d-ab02-d47dcbcfe5ac",
   "metadata": {},
   "outputs": [
    {
     "name": "stderr",
     "output_type": "stream",
     "text": [
      "[nltk_data] Downloading package vader_lexicon to\n",
      "[nltk_data]     C:\\Users\\saran\\AppData\\Roaming\\nltk_data...\n",
      "[nltk_data]   Package vader_lexicon is already up-to-date!\n"
     ]
    },
    {
     "data": {
      "text/plain": [
       "True"
      ]
     },
     "execution_count": 69,
     "metadata": {},
     "output_type": "execute_result"
    }
   ],
   "source": [
    "# Download the VADER lexicon\n",
    "import nltk\n",
    "nltk.download('vader_lexicon')"
   ]
  },
  {
   "cell_type": "code",
   "execution_count": 70,
   "id": "428e8277-a46e-45e8-81f3-14dda465ad21",
   "metadata": {},
   "outputs": [],
   "source": [
    "# VADER Sentiment Analysis\n",
    "\n",
    "# Analyzing the sentiment of a given text using VADER. Returns 'Positive' if polarity >= 0, otherwise 'Negative'.\n",
    "def get_vader_sentiment(text):\n",
    "    \"\"\"\n",
    "    Analyzing the sentiment of a given text using VADER.\n",
    "    Returns 'Positive' if compound score > 0, otherwise 'Negative'.\n",
    "    \"\"\"\n",
    "    analyzer = SentimentIntensityAnalyzer()\n",
    "    compound_score = analyzer.polarity_scores(text)['compound']\n",
    "    if compound_score > 0:\n",
    "        return 'Positive'\n",
    "    else:\n",
    "        return 'Negative'\n",
    "\n"
   ]
  },
  {
   "cell_type": "code",
   "execution_count": 71,
   "id": "75af14e6-b931-498c-b29d-b2ec3dfa4345",
   "metadata": {},
   "outputs": [
    {
     "name": "stdout",
     "output_type": "stream",
     "text": [
      "Classifying movie reviews using VADER...\n"
     ]
    }
   ],
   "source": [
    "# Applying the sentiment analysis function to the 'review' column\n",
    "print(\"Classifying movie reviews using VADER...\")\n",
    "df['VADER_Sentiment'] = df['review'].apply(get_vader_sentiment)\n",
    "\n",
    "# Mapping the original numerical sentiment to text labels for comparison\n",
    "df['true_sentiment_text'] = df['sentiment'].map({1: 'Positive', 0: 'Negative'})\n",
    "\n"
   ]
  },
  {
   "cell_type": "code",
   "execution_count": 72,
   "id": "97fedc75-63f3-4077-a467-533ff9c4106f",
   "metadata": {},
   "outputs": [
    {
     "name": "stdout",
     "output_type": "stream",
     "text": [
      "\n",
      "--- Model Accuracy ---\n",
      "The accuracy of the VADER model is: 0.69\n"
     ]
    }
   ],
   "source": [
    "# Calculating the accuracy by comparing the true labels to VADER's predictions\n",
    "accuracy = accuracy_score(df['true_sentiment_text'], df['VADER_Sentiment'])\n",
    "\n",
    "# --- Display Results ---\n",
    "print(\"\\n--- Model Accuracy ---\")\n",
    "print(f\"The accuracy of the VADER model is: {accuracy:.2f}\")"
   ]
  },
  {
   "cell_type": "markdown",
   "id": "77dd2dc0-6e57-4468-953d-a33b12be9eee",
   "metadata": {},
   "source": [
    "Conclusion: VADER Sentiment Classification\n",
    "\n",
    "With an achieved classification accuracy of 69%, the VADER model significantly outperforms the 50% baseline, confirming its value as an untrained, rule-based classifier for movie review sentiment. This robust performance affirms the model's ability to quickly and effectively interpret sentiment. However, the 0.69 accuracy also highlights a performance ceiling related to VADER's reliance on a fixed lexicon. The model's inability to fully capture complex linguistic features—like domain-specific jargon, sarcasm, or highly nuanced expressions—limits its final precision. Consequently, while VADER serves as an excellent and efficient starting point, we anticipate that dedicated machine-learning models will yield superior results by addressing these linguistic gaps."
   ]
  },
  {
   "cell_type": "code",
   "execution_count": 74,
   "id": "393f7df5-882f-4746-921c-549a9fb8bb52",
   "metadata": {},
   "outputs": [],
   "source": [
    "# Download the stopwords list if not already available\n",
    "try:\n",
    "    nltk.data.find('corpora/stopwords')\n",
    "except LookupError:\n",
    "    print(\"Downloading NLTK stopwords...\")\n",
    "    nltk.download('stopwords')"
   ]
  },
  {
   "cell_type": "code",
   "execution_count": 75,
   "id": "a63ce114-b6e7-4660-9dcc-63d4309ee338",
   "metadata": {},
   "outputs": [],
   "source": [
    "# Define a function for text cleaning and stemming\n",
    "def clean_and_stem_text(text):\n",
    "    # Convert to lowercase\n",
    "    text = text.lower()\n",
    "    # Remove HTML tags (common in this dataset)\n",
    "    text = re.sub(r'<.*?>', '', text)\n",
    "    # Remove punctuation and special characters, keeping only letters and numbers\n",
    "    text = re.sub(r'[^a-z0-9\\s]', '', text)\n",
    "    # Tokenize the text and remove stop words\n",
    "    stop_words = set(stopwords.words('english'))\n",
    "    words = text.split()\n",
    "    cleaned_words = [word for word in words if word not in stop_words]\n",
    "    # Apply PorterStemmer\n",
    "    porter = PorterStemmer()\n",
    "    stemmed_words = [porter.stem(word) for word in cleaned_words]\n",
    "    # Join the words back into a single string\n",
    "    return ' '.join(stemmed_words)"
   ]
  },
  {
   "cell_type": "code",
   "execution_count": 76,
   "id": "447f4148-040b-4ac7-8e90-890697db3cc2",
   "metadata": {},
   "outputs": [],
   "source": [
    "# Applying the cleaning and stemming function\n",
    "df['stemmed_review'] = df['review'].apply(clean_and_stem_text)"
   ]
  },
  {
   "cell_type": "code",
   "execution_count": 77,
   "id": "572b7c39-0e8a-4785-97b1-2c9e72e03946",
   "metadata": {},
   "outputs": [
    {
     "name": "stdout",
     "output_type": "stream",
     "text": [
      "Text preprocessing and stemming completed.\n",
      "\n",
      "First 5 stemmed reviews:\n",
      "0    stuff go moment mj ive start listen music watc...\n",
      "1    classic war world timothi hine entertain film ...\n",
      "2    film start manag nichola bell give welcom inve...\n",
      "3    must assum prais film greatest film opera ever...\n",
      "4    superbl trashi wondrous unpretenti 80 exploit ...\n",
      "Name: stemmed_review, dtype: object\n"
     ]
    }
   ],
   "source": [
    "print(\"Text preprocessing and stemming completed.\")\n",
    "print(\"\\nFirst 5 stemmed reviews:\")\n",
    "print(df['stemmed_review'].head())"
   ]
  },
  {
   "cell_type": "code",
   "execution_count": 78,
   "id": "447f7b06-ea5d-4a15-b10d-ded431c99385",
   "metadata": {},
   "outputs": [
    {
     "name": "stdout",
     "output_type": "stream",
     "text": [
      "\n",
      "Creating Bag-of-Words matrix\n",
      "Bag-of-Words matrix dimensions: (25000, 112735)\n"
     ]
    }
   ],
   "source": [
    "# Vectorization\n",
    "\n",
    "# Creating a Bag-of-Words matrix\n",
    "print(\"\\nCreating Bag-of-Words matrix\")\n",
    "count_vectorizer = CountVectorizer()\n",
    "bag_of_words_matrix = count_vectorizer.fit_transform(df['stemmed_review'])\n",
    "\n",
    "print(f\"Bag-of-Words matrix dimensions: {bag_of_words_matrix.shape}\")\n"
   ]
  },
  {
   "cell_type": "code",
   "execution_count": 79,
   "id": "9e6c11ca-b6b3-43e2-89d6-07074738842e",
   "metadata": {},
   "outputs": [
    {
     "name": "stdout",
     "output_type": "stream",
     "text": [
      "\n",
      "Creating TF-IDF matrix\n",
      "TF-IDF matrix dimensions: (25000, 112735)\n"
     ]
    }
   ],
   "source": [
    "# Create a TF-IDF matrix\n",
    "print(\"\\nCreating TF-IDF matrix\")\n",
    "tfidf_vectorizer = TfidfVectorizer()\n",
    "tfidf_matrix = tfidf_vectorizer.fit_transform(df['stemmed_review'])\n",
    "print(f\"TF-IDF matrix dimensions: {tfidf_matrix.shape}\")"
   ]
  },
  {
   "cell_type": "code",
   "execution_count": 80,
   "id": "5703b62a-1be8-4cf7-b134-0162031c5176",
   "metadata": {},
   "outputs": [
    {
     "name": "stdout",
     "output_type": "stream",
     "text": [
      "\n",
      "Verified: Number of rows in matrices which matches original DataFrame.\n"
     ]
    }
   ],
   "source": [
    "# Verify dimensions\n",
    "if bag_of_words_matrix.shape[0] == df.shape[0] and tfidf_matrix.shape[0] == df.shape[0]:\n",
    "    print(\"\\nVerified: Number of rows in matrices which matches original DataFrame.\")\n",
    "else:\n",
    "    print(\"\\nWarning: Number of rows in matrices not matching with original DataFrame.\")"
   ]
  },
  {
   "cell_type": "markdown",
   "id": "e8cbc172-a306-4911-83c2-c6d489d20d64",
   "metadata": {},
   "source": [
    "Conclusion and Path Forward"
   ]
  },
  {
   "cell_type": "markdown",
   "id": "5cdb94b7-ccce-4f15-840c-fb3b61c889af",
   "metadata": {},
   "source": [
    "The data preparation phase is complete and validated. The Bag-of-Words and TF-IDF representations were successfully constructed, resulting in matrices of (25000, 112735) dimensions. This technical achievement ensures a feature space of 112,735 unique stemmed terms is available for modeling, corresponding perfectly to the total number of documents.\n",
    "\n",
    "Our baseline assessment using VADER and TextBlob showed a consistent 69% accuracy, demonstrating the initial efficacy but also the inherent performance ceiling of lexicon-based models. The newly generated BoW and TF-IDF matrices now enable the transition to super-vised machine learning. This numerical feature set is ready for sophisticated classifiers that will learn context and relationships within the data, which is necessary to improve accuracy beyond the limitations of the current rule-based systems."
   ]
  }
 ],
 "metadata": {
  "kernelspec": {
   "display_name": "Python [conda env:base] *",
   "language": "python",
   "name": "conda-base-py"
  },
  "language_info": {
   "codemirror_mode": {
    "name": "ipython",
    "version": 3
   },
   "file_extension": ".py",
   "mimetype": "text/x-python",
   "name": "python",
   "nbconvert_exporter": "python",
   "pygments_lexer": "ipython3",
   "version": "3.12.7"
  }
 },
 "nbformat": 4,
 "nbformat_minor": 5
}
