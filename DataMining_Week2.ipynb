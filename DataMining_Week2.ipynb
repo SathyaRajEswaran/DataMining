{
 "cells": [
  {
   "cell_type": "markdown",
   "id": "c4a41111-2a78-4fa4-9092-fbe94f77eb9d",
   "metadata": {},
   "source": [
    "/*  ============================================   \n",
    "Title: Week 2: Graph Analysis with Matplotlib\n",
    "Author: Catie Williams\n",
    "Date: 21 Sep 2025 \n",
    "Created By: Sathya Raj Eswaran\n",
    "Description: Graph Analysis with Matplotlib\n",
    "=========================================== */  "
   ]
  },
  {
   "cell_type": "markdown",
   "id": "8bf9f247-b694-4096-bcfa-697746870a06",
   "metadata": {},
   "source": [
    "1.Using a data set of your choice, write an introduction explaining the data set."
   ]
  },
  {
   "cell_type": "markdown",
   "id": "ad549c14-20b4-4eaa-af02-92f277e4cf6a",
   "metadata": {},
   "source": [
    "The dataset we are using is  adult_income_data.csv, and it contains information about individuals from a 1994 U.S. Census survey. This dataset is used in machine learning and data analysis to predict a person's income that exceeds $50,000 annually.\n",
    "\n",
    "This data includes a variety of demographic and work-related features for each individual, such as:\n",
    "•\tAge: The person's age.\n",
    "•\tWorkclass: The type of employer (e.g., Private, State-gov, Self-emp-not-inc).\n",
    "•\tEducation: The highest level of education attained.\n",
    "•\tMarital status: The person's marital status.\n",
    "•\tOccupation: The specific occupation of the individual.\n",
    "•\tRelationship: The person's relationship to the head of the household.\n",
    "•\tRace: The person's race.\n",
    "•\tGender: The person's gender.\n",
    "•\tHours per week: The number of hours the person works per week.\n",
    "•\tNative country: The country of origin.\n",
    "•\tIncome: The target variable, indicating whether an individual's income is less than or equal to $50,000 (<=50K) \n",
    "    or greater than $50,000 (>50K).\n",
    "    \n",
    "This dataset is valuable for exploring relationships between these personal attributes and income, allowing for the development of models that can classify an individual's income bracket based on their other characteristics.\n",
    "\n"
   ]
  },
  {
   "cell_type": "markdown",
   "id": "5bb6acb1-13e0-4525-b6a4-f1d44e85458a",
   "metadata": {},
   "source": [
    "2.Identify a question or question(s) that you would like to explore in your data set."
   ]
  },
  {
   "cell_type": "markdown",
   "id": "4bb49bc4-4d73-4f02-a9ab-74184c0fa90f",
   "metadata": {},
   "source": [
    "How do demographic and work-related factors, such as education level, occupation, and hours worked per week, correlate with an individual's income bracket (whether they earn more or less than $50K)?"
   ]
  },
  {
   "cell_type": "code",
   "execution_count": 29,
   "id": "c6011ff6-bb44-4b1c-9f87-e661d7b5337c",
   "metadata": {},
   "outputs": [],
   "source": [
    "# Importing Libraries\n",
    "import numpy as np\n",
    "import pandas as pd\n",
    "import matplotlib.pyplot as plt"
   ]
  },
  {
   "cell_type": "code",
   "execution_count": 31,
   "id": "3266a8d4-c44a-4a82-a378-23f5abb0bb96",
   "metadata": {},
   "outputs": [],
   "source": [
    "import seaborn as sns"
   ]
  },
  {
   "cell_type": "code",
   "execution_count": 58,
   "id": "e21947d5-0051-456c-92f7-3f00f03587a0",
   "metadata": {},
   "outputs": [],
   "source": [
    "# This creates a pandas DataFrame object named 'df' containing the dataset\n",
    "df=pd.read_csv(\"data\\\\adult_income_data.csv\", header=None)"
   ]
  },
  {
   "cell_type": "code",
   "execution_count": 60,
   "id": "3b721caa-9857-468a-be76-8ccb15d68ef0",
   "metadata": {},
   "outputs": [
    {
     "data": {
      "text/html": [
       "<div>\n",
       "<style scoped>\n",
       "    .dataframe tbody tr th:only-of-type {\n",
       "        vertical-align: middle;\n",
       "    }\n",
       "\n",
       "    .dataframe tbody tr th {\n",
       "        vertical-align: top;\n",
       "    }\n",
       "\n",
       "    .dataframe thead th {\n",
       "        text-align: right;\n",
       "    }\n",
       "</style>\n",
       "<table border=\"1\" class=\"dataframe\">\n",
       "  <thead>\n",
       "    <tr style=\"text-align: right;\">\n",
       "      <th></th>\n",
       "      <th>0</th>\n",
       "      <th>1</th>\n",
       "      <th>2</th>\n",
       "      <th>3</th>\n",
       "      <th>4</th>\n",
       "      <th>5</th>\n",
       "      <th>6</th>\n",
       "      <th>7</th>\n",
       "      <th>8</th>\n",
       "      <th>9</th>\n",
       "      <th>10</th>\n",
       "      <th>11</th>\n",
       "      <th>12</th>\n",
       "      <th>13</th>\n",
       "    </tr>\n",
       "  </thead>\n",
       "  <tbody>\n",
       "    <tr>\n",
       "      <th>0</th>\n",
       "      <td>39</td>\n",
       "      <td>State-gov</td>\n",
       "      <td>77516</td>\n",
       "      <td>Bachelors</td>\n",
       "      <td>13</td>\n",
       "      <td>Never-married</td>\n",
       "      <td>Adm-clerical</td>\n",
       "      <td>Not-in-family</td>\n",
       "      <td>Male</td>\n",
       "      <td>2174</td>\n",
       "      <td>0</td>\n",
       "      <td>40</td>\n",
       "      <td>United-States</td>\n",
       "      <td>&lt;=50K</td>\n",
       "    </tr>\n",
       "    <tr>\n",
       "      <th>1</th>\n",
       "      <td>50</td>\n",
       "      <td>Self-emp-not-inc</td>\n",
       "      <td>83311</td>\n",
       "      <td>Bachelors</td>\n",
       "      <td>13</td>\n",
       "      <td>Married-civ-spouse</td>\n",
       "      <td>Exec-managerial</td>\n",
       "      <td>Husband</td>\n",
       "      <td>Male</td>\n",
       "      <td>0</td>\n",
       "      <td>0</td>\n",
       "      <td>13</td>\n",
       "      <td>United-States</td>\n",
       "      <td>&lt;=50K</td>\n",
       "    </tr>\n",
       "    <tr>\n",
       "      <th>2</th>\n",
       "      <td>38</td>\n",
       "      <td>Private</td>\n",
       "      <td>215646</td>\n",
       "      <td>HS-grad</td>\n",
       "      <td>9</td>\n",
       "      <td>Divorced</td>\n",
       "      <td>Handlers-cleaners</td>\n",
       "      <td>Not-in-family</td>\n",
       "      <td>Male</td>\n",
       "      <td>0</td>\n",
       "      <td>0</td>\n",
       "      <td>40</td>\n",
       "      <td>United-States</td>\n",
       "      <td>&lt;=50K</td>\n",
       "    </tr>\n",
       "    <tr>\n",
       "      <th>3</th>\n",
       "      <td>53</td>\n",
       "      <td>Private</td>\n",
       "      <td>234721</td>\n",
       "      <td>11th</td>\n",
       "      <td>7</td>\n",
       "      <td>Married-civ-spouse</td>\n",
       "      <td>Handlers-cleaners</td>\n",
       "      <td>Husband</td>\n",
       "      <td>Male</td>\n",
       "      <td>0</td>\n",
       "      <td>0</td>\n",
       "      <td>40</td>\n",
       "      <td>United-States</td>\n",
       "      <td>&lt;=50K</td>\n",
       "    </tr>\n",
       "    <tr>\n",
       "      <th>4</th>\n",
       "      <td>28</td>\n",
       "      <td>Private</td>\n",
       "      <td>338409</td>\n",
       "      <td>Bachelors</td>\n",
       "      <td>13</td>\n",
       "      <td>Married-civ-spouse</td>\n",
       "      <td>Prof-specialty</td>\n",
       "      <td>Wife</td>\n",
       "      <td>Female</td>\n",
       "      <td>0</td>\n",
       "      <td>0</td>\n",
       "      <td>40</td>\n",
       "      <td>Cuba</td>\n",
       "      <td>&lt;=50K</td>\n",
       "    </tr>\n",
       "  </tbody>\n",
       "</table>\n",
       "</div>"
      ],
      "text/plain": [
       "   0                  1       2           3   4                    5   \\\n",
       "0  39          State-gov   77516   Bachelors  13        Never-married   \n",
       "1  50   Self-emp-not-inc   83311   Bachelors  13   Married-civ-spouse   \n",
       "2  38            Private  215646     HS-grad   9             Divorced   \n",
       "3  53            Private  234721        11th   7   Married-civ-spouse   \n",
       "4  28            Private  338409   Bachelors  13   Married-civ-spouse   \n",
       "\n",
       "                   6               7        8     9   10  11              12  \\\n",
       "0        Adm-clerical   Not-in-family     Male  2174   0  40   United-States   \n",
       "1     Exec-managerial         Husband     Male     0   0  13   United-States   \n",
       "2   Handlers-cleaners   Not-in-family     Male     0   0  40   United-States   \n",
       "3   Handlers-cleaners         Husband     Male     0   0  40   United-States   \n",
       "4      Prof-specialty            Wife   Female     0   0  40            Cuba   \n",
       "\n",
       "       13  \n",
       "0   <=50K  \n",
       "1   <=50K  \n",
       "2   <=50K  \n",
       "3   <=50K  \n",
       "4   <=50K  "
      ]
     },
     "execution_count": 60,
     "metadata": {},
     "output_type": "execute_result"
    }
   ],
   "source": [
    "df.head(5)"
   ]
  },
  {
   "cell_type": "code",
   "execution_count": 64,
   "id": "931c17b7-330a-48d0-b90f-cda1ec2e026b",
   "metadata": {},
   "outputs": [],
   "source": [
    "# The columns are not in the header, so we need to add them\n",
    "column_names = [\n",
    "    'age', 'workclass', 'fnlwgt', 'education', 'education-num',\n",
    "    'marital-status', 'occupation', 'relationship', 'gender',\n",
    "    'capital-gain', 'capital-loss', 'hours-per-week', 'native-country', 'income'\n",
    "]\n",
    "df.columns = column_names"
   ]
  },
  {
   "cell_type": "code",
   "execution_count": 66,
   "id": "cff1afdd-413d-4fbe-9f7c-20e970bfc9a5",
   "metadata": {},
   "outputs": [
    {
     "data": {
      "text/html": [
       "<div>\n",
       "<style scoped>\n",
       "    .dataframe tbody tr th:only-of-type {\n",
       "        vertical-align: middle;\n",
       "    }\n",
       "\n",
       "    .dataframe tbody tr th {\n",
       "        vertical-align: top;\n",
       "    }\n",
       "\n",
       "    .dataframe thead th {\n",
       "        text-align: right;\n",
       "    }\n",
       "</style>\n",
       "<table border=\"1\" class=\"dataframe\">\n",
       "  <thead>\n",
       "    <tr style=\"text-align: right;\">\n",
       "      <th></th>\n",
       "      <th>age</th>\n",
       "      <th>workclass</th>\n",
       "      <th>fnlwgt</th>\n",
       "      <th>education</th>\n",
       "      <th>education-num</th>\n",
       "      <th>marital-status</th>\n",
       "      <th>occupation</th>\n",
       "      <th>relationship</th>\n",
       "      <th>gender</th>\n",
       "      <th>capital-gain</th>\n",
       "      <th>capital-loss</th>\n",
       "      <th>hours-per-week</th>\n",
       "      <th>native-country</th>\n",
       "      <th>income</th>\n",
       "    </tr>\n",
       "  </thead>\n",
       "  <tbody>\n",
       "    <tr>\n",
       "      <th>0</th>\n",
       "      <td>39</td>\n",
       "      <td>State-gov</td>\n",
       "      <td>77516</td>\n",
       "      <td>Bachelors</td>\n",
       "      <td>13</td>\n",
       "      <td>Never-married</td>\n",
       "      <td>Adm-clerical</td>\n",
       "      <td>Not-in-family</td>\n",
       "      <td>Male</td>\n",
       "      <td>2174</td>\n",
       "      <td>0</td>\n",
       "      <td>40</td>\n",
       "      <td>United-States</td>\n",
       "      <td>&lt;=50K</td>\n",
       "    </tr>\n",
       "    <tr>\n",
       "      <th>1</th>\n",
       "      <td>50</td>\n",
       "      <td>Self-emp-not-inc</td>\n",
       "      <td>83311</td>\n",
       "      <td>Bachelors</td>\n",
       "      <td>13</td>\n",
       "      <td>Married-civ-spouse</td>\n",
       "      <td>Exec-managerial</td>\n",
       "      <td>Husband</td>\n",
       "      <td>Male</td>\n",
       "      <td>0</td>\n",
       "      <td>0</td>\n",
       "      <td>13</td>\n",
       "      <td>United-States</td>\n",
       "      <td>&lt;=50K</td>\n",
       "    </tr>\n",
       "    <tr>\n",
       "      <th>2</th>\n",
       "      <td>38</td>\n",
       "      <td>Private</td>\n",
       "      <td>215646</td>\n",
       "      <td>HS-grad</td>\n",
       "      <td>9</td>\n",
       "      <td>Divorced</td>\n",
       "      <td>Handlers-cleaners</td>\n",
       "      <td>Not-in-family</td>\n",
       "      <td>Male</td>\n",
       "      <td>0</td>\n",
       "      <td>0</td>\n",
       "      <td>40</td>\n",
       "      <td>United-States</td>\n",
       "      <td>&lt;=50K</td>\n",
       "    </tr>\n",
       "    <tr>\n",
       "      <th>3</th>\n",
       "      <td>53</td>\n",
       "      <td>Private</td>\n",
       "      <td>234721</td>\n",
       "      <td>11th</td>\n",
       "      <td>7</td>\n",
       "      <td>Married-civ-spouse</td>\n",
       "      <td>Handlers-cleaners</td>\n",
       "      <td>Husband</td>\n",
       "      <td>Male</td>\n",
       "      <td>0</td>\n",
       "      <td>0</td>\n",
       "      <td>40</td>\n",
       "      <td>United-States</td>\n",
       "      <td>&lt;=50K</td>\n",
       "    </tr>\n",
       "    <tr>\n",
       "      <th>4</th>\n",
       "      <td>28</td>\n",
       "      <td>Private</td>\n",
       "      <td>338409</td>\n",
       "      <td>Bachelors</td>\n",
       "      <td>13</td>\n",
       "      <td>Married-civ-spouse</td>\n",
       "      <td>Prof-specialty</td>\n",
       "      <td>Wife</td>\n",
       "      <td>Female</td>\n",
       "      <td>0</td>\n",
       "      <td>0</td>\n",
       "      <td>40</td>\n",
       "      <td>Cuba</td>\n",
       "      <td>&lt;=50K</td>\n",
       "    </tr>\n",
       "    <tr>\n",
       "      <th>5</th>\n",
       "      <td>37</td>\n",
       "      <td>Private</td>\n",
       "      <td>284582</td>\n",
       "      <td>Masters</td>\n",
       "      <td>14</td>\n",
       "      <td>Married-civ-spouse</td>\n",
       "      <td>Exec-managerial</td>\n",
       "      <td>Wife</td>\n",
       "      <td>Female</td>\n",
       "      <td>0</td>\n",
       "      <td>0</td>\n",
       "      <td>40</td>\n",
       "      <td>United-States</td>\n",
       "      <td>&lt;=50K</td>\n",
       "    </tr>\n",
       "    <tr>\n",
       "      <th>6</th>\n",
       "      <td>49</td>\n",
       "      <td>Private</td>\n",
       "      <td>160187</td>\n",
       "      <td>9th</td>\n",
       "      <td>5</td>\n",
       "      <td>Married-spouse-absent</td>\n",
       "      <td>Other-service</td>\n",
       "      <td>Not-in-family</td>\n",
       "      <td>Female</td>\n",
       "      <td>0</td>\n",
       "      <td>0</td>\n",
       "      <td>16</td>\n",
       "      <td>Jamaica</td>\n",
       "      <td>&lt;=50K</td>\n",
       "    </tr>\n",
       "    <tr>\n",
       "      <th>7</th>\n",
       "      <td>52</td>\n",
       "      <td>Self-emp-not-inc</td>\n",
       "      <td>209642</td>\n",
       "      <td>HS-grad</td>\n",
       "      <td>9</td>\n",
       "      <td>Married-civ-spouse</td>\n",
       "      <td>Exec-managerial</td>\n",
       "      <td>Husband</td>\n",
       "      <td>Male</td>\n",
       "      <td>0</td>\n",
       "      <td>0</td>\n",
       "      <td>45</td>\n",
       "      <td>United-States</td>\n",
       "      <td>&gt;50K</td>\n",
       "    </tr>\n",
       "    <tr>\n",
       "      <th>8</th>\n",
       "      <td>31</td>\n",
       "      <td>Private</td>\n",
       "      <td>45781</td>\n",
       "      <td>Masters</td>\n",
       "      <td>14</td>\n",
       "      <td>Never-married</td>\n",
       "      <td>Prof-specialty</td>\n",
       "      <td>Not-in-family</td>\n",
       "      <td>Female</td>\n",
       "      <td>14084</td>\n",
       "      <td>0</td>\n",
       "      <td>50</td>\n",
       "      <td>United-States</td>\n",
       "      <td>&gt;50K</td>\n",
       "    </tr>\n",
       "    <tr>\n",
       "      <th>9</th>\n",
       "      <td>42</td>\n",
       "      <td>Private</td>\n",
       "      <td>159449</td>\n",
       "      <td>Bachelors</td>\n",
       "      <td>13</td>\n",
       "      <td>Married-civ-spouse</td>\n",
       "      <td>Exec-managerial</td>\n",
       "      <td>Husband</td>\n",
       "      <td>Male</td>\n",
       "      <td>5178</td>\n",
       "      <td>0</td>\n",
       "      <td>40</td>\n",
       "      <td>United-States</td>\n",
       "      <td>&gt;50K</td>\n",
       "    </tr>\n",
       "  </tbody>\n",
       "</table>\n",
       "</div>"
      ],
      "text/plain": [
       "   age          workclass  fnlwgt   education  education-num  \\\n",
       "0   39          State-gov   77516   Bachelors             13   \n",
       "1   50   Self-emp-not-inc   83311   Bachelors             13   \n",
       "2   38            Private  215646     HS-grad              9   \n",
       "3   53            Private  234721        11th              7   \n",
       "4   28            Private  338409   Bachelors             13   \n",
       "5   37            Private  284582     Masters             14   \n",
       "6   49            Private  160187         9th              5   \n",
       "7   52   Self-emp-not-inc  209642     HS-grad              9   \n",
       "8   31            Private   45781     Masters             14   \n",
       "9   42            Private  159449   Bachelors             13   \n",
       "\n",
       "           marital-status          occupation    relationship   gender  \\\n",
       "0           Never-married        Adm-clerical   Not-in-family     Male   \n",
       "1      Married-civ-spouse     Exec-managerial         Husband     Male   \n",
       "2                Divorced   Handlers-cleaners   Not-in-family     Male   \n",
       "3      Married-civ-spouse   Handlers-cleaners         Husband     Male   \n",
       "4      Married-civ-spouse      Prof-specialty            Wife   Female   \n",
       "5      Married-civ-spouse     Exec-managerial            Wife   Female   \n",
       "6   Married-spouse-absent       Other-service   Not-in-family   Female   \n",
       "7      Married-civ-spouse     Exec-managerial         Husband     Male   \n",
       "8           Never-married      Prof-specialty   Not-in-family   Female   \n",
       "9      Married-civ-spouse     Exec-managerial         Husband     Male   \n",
       "\n",
       "   capital-gain  capital-loss  hours-per-week  native-country  income  \n",
       "0          2174             0              40   United-States   <=50K  \n",
       "1             0             0              13   United-States   <=50K  \n",
       "2             0             0              40   United-States   <=50K  \n",
       "3             0             0              40   United-States   <=50K  \n",
       "4             0             0              40            Cuba   <=50K  \n",
       "5             0             0              40   United-States   <=50K  \n",
       "6             0             0              16         Jamaica   <=50K  \n",
       "7             0             0              45   United-States    >50K  \n",
       "8         14084             0              50   United-States    >50K  \n",
       "9          5178             0              40   United-States    >50K  "
      ]
     },
     "execution_count": 66,
     "metadata": {},
     "output_type": "execute_result"
    }
   ],
   "source": [
    "# Display the first 5 rows of the dataframe to preview \n",
    "df.head(10)"
   ]
  },
  {
   "cell_type": "markdown",
   "id": "6ba4b4a4-c289-4a54-8f46-d8b4deedc3f9",
   "metadata": {},
   "source": [
    "#Find the dimensions (number of rows and columns) in the data frame. What do these two numbers represent in the context of the data?"
   ]
  },
  {
   "cell_type": "code",
   "execution_count": 68,
   "id": "1dd8fdc6-0467-4efc-91ca-6767a615b924",
   "metadata": {},
   "outputs": [
    {
     "name": "stdout",
     "output_type": "stream",
     "text": [
      "(32561, 14)\n"
     ]
    }
   ],
   "source": [
    "# Get the shape of the DataFrame\n",
    "df_shape = df.shape\n",
    "\n",
    "# Print the shape\n",
    "print(df_shape)"
   ]
  },
  {
   "cell_type": "code",
   "execution_count": 70,
   "id": "e94f4eef-98d7-4729-b3ce-2d08281c82c7",
   "metadata": {},
   "outputs": [],
   "source": [
    "#The dataset contains 32560 rows and 14 columns."
   ]
  },
  {
   "cell_type": "code",
   "execution_count": 72,
   "id": "9bd98cd6-4e39-4370-afd5-ed3273a7d742",
   "metadata": {},
   "outputs": [],
   "source": [
    "# Data cleaning and preparation\n",
    "# Strip any leading/trailing whitespace from column names\n",
    "df.columns = df.columns.str.strip()"
   ]
  },
  {
   "cell_type": "code",
   "execution_count": 74,
   "id": "22a1cb3c-9cd5-4809-8562-3a47601fb801",
   "metadata": {},
   "outputs": [],
   "source": [
    "# Replace '?' with NaN and drop rows with missing values\n",
    "# Some datasets use '?' to denote missing data, which can cause issues with plotting\n",
    "df = df.replace('?', pd.NA)\n",
    "df = df.dropna()"
   ]
  },
  {
   "cell_type": "markdown",
   "id": "87d160e1-8171-4ad8-b38c-8dae0849aad2",
   "metadata": {},
   "source": [
    "3. Create at least three graphs that help answer these questions. Make sure your graphs are clearly readable and are labeled appropriately and professionally."
   ]
  },
  {
   "cell_type": "code",
   "execution_count": 78,
   "id": "eea58bd0-d148-463d-ab02-d47dcbcfe5ac",
   "metadata": {},
   "outputs": [
    {
     "data": {
      "image/png": "[encoded data removed]",
      "text/plain": [
       "<Figure size 1400x800 with 1 Axes>"
      ]
     },
     "metadata": {},
     "output_type": "display_data"
    }
   ],
   "source": [
    "# Graph 1: Income distribution by education level\n",
    "plt.figure(figsize=(14, 8))\n",
    "sns.countplot(data=df, y='education', hue='income', order=df['education'].value_counts().index)\n",
    "plt.title('Income Distribution by Education Level')\n",
    "plt.xlabel('Count')\n",
    "plt.ylabel('Education Level')\n",
    "plt.tight_layout()\n",
    "plt.show()"
   ]
  },
  {
   "cell_type": "code",
   "execution_count": 82,
   "id": "cd3fe46b-f304-4af7-8430-aba3147ba309",
   "metadata": {},
   "outputs": [
    {
     "data": {
      "image/png": "[encoded data removed]",
      "text/plain": [
       "<Figure size 1000x600 with 1 Axes>"
      ]
     },
     "metadata": {},
     "output_type": "display_data"
    }
   ],
   "source": [
    "# Graph 2: Income distribution by sex\n",
    "plt.figure(figsize=(10, 6))\n",
    "sns.countplot(data=df, x='gender', hue='income')\n",
    "plt.title('Income Distribution by Sex')\n",
    "plt.xlabel('Gender')\n",
    "plt.ylabel('Count')\n",
    "plt.tight_layout() # Adjust layout to prevent labels from being cut off\n",
    "plt.show()"
   ]
  },
  {
   "cell_type": "code",
   "execution_count": 84,
   "id": "aade4f8e-eeec-4cf3-93a6-4b7b3e83280b",
   "metadata": {},
   "outputs": [
    {
     "data": {
      "image/png": "[encoded data removed]",
      "text/plain": [
       "<Figure size 1000x600 with 1 Axes>"
      ]
     },
     "metadata": {},
     "output_type": "display_data"
    }
   ],
   "source": [
    "# Graph 3: Distribution of hours worked per week by income\n",
    "plt.figure(figsize=(10, 6))\n",
    "sns.boxplot(data=df, x='income', y='hours-per-week')\n",
    "plt.title('Distribution of Hours Worked per Week by Income')\n",
    "plt.xlabel('Income')\n",
    "plt.ylabel('Hours per Week')\n",
    "plt.tight_layout()\n",
    "plt.show()"
   ]
  },
  {
   "cell_type": "markdown",
   "id": "3b009a0c-76b9-4dbd-a09c-594b56f53af2",
   "metadata": {},
   "source": [
    "4.Explain what you have learned from each of your graphs"
   ]
  },
  {
   "cell_type": "markdown",
   "id": "9f850bbc-2990-4507-aafd-323fb5945878",
   "metadata": {},
   "source": [
    "Graph 1: Income Distribution by Sex\n",
    "\n",
    "This graph compares the number of male and female individuals who earn more or less than $50,000 annually.\n",
    "\n",
    "A significantly higher number of men in this dataset earn over $50,000 \n",
    "\n",
    "compared to women. While many men and women earn less than or equal to $50,000, there is a substantial disparity in the proportion of each gender within the higher income bracket. This indicates a notable gender-based income gap in the dataset."
   ]
  },
  {
   "cell_type": "markdown",
   "id": "105e95de-a166-4ab8-83de-9d6bce43dcc5",
   "metadata": {},
   "source": [
    "Graph 2: Income Distribution by Education Level\n",
    "\n",
    "As an individual's education level increases, so does their likelihood of earning more than $50,000.\n",
    "\n",
    "Individuals with a Doctorate or Masters degree have a much higher probability of being in the >50K income bracket compared to those with a high school education or less.\n",
    "\n",
    "The Bachelors and Some-college categories have a high number of individuals, but the proportion of those earning >50K is noticeably smaller than for graduate degree holders.\n",
    "\n",
    "Conversely, a vast majority of those with a 9th, 10th, or 11th grade education earn less than or equal to $50,000, with very few reaching the higher income bracket."
   ]
  },
  {
   "cell_type": "markdown",
   "id": "ce330940-0d71-4a06-a62d-0384236a01d1",
   "metadata": {},
   "source": [
    "Graph 3: Distribution of Hours Worked per Week by Income\n",
    "This box plot illustrates the median, quartiles, and range of hours worked per week for each income category.\n",
    "\n",
    "The median hours worked per week for both income groups is around 40 hours.\n",
    "However, the distribution for those earning >50K is slightly wider, with some individuals working a much higher number of hours per week than their >50K counterparts.\n",
    "This suggests that while working a standard 40-hour week is common across all income levels, those who earn over $50,000 may, on average, tend to work slightly more hours. The presence of outliers indicates that some individuals in the higher income bracket work significantly more hours."
   ]
  },
  {
   "cell_type": "markdown",
   "id": "887a285c-ae4a-4357-930c-8547d34ea358",
   "metadata": {},
   "source": [
    "5. Write a conclusion that summarizes your findings."
   ]
  },
  {
   "cell_type": "markdown",
   "id": "8ee14d34-86d9-4d25-a314-3cb651a92b65",
   "metadata": {},
   "source": [
    "Both education level and gender significantly impact income, with higher education correlating with higher earnings. However, a notable gender-based income gap persists, with men disproportionately represented in the higher income brackets. There is a direct correlation between higher education levels and increased income. However, a significant gender-based income gap persists, with men disproportionately earning higher salaries across all educational brackets.A clear correlation exists between higher education and higher income. However, significant income disparities persist based on gender and race, highlighting ongoing systemic inequalities despite educational achievements."
   ]
  },
  {
   "cell_type": "code",
   "execution_count": null,
   "id": "cb9007f8-683f-439b-9e20-7f78b31a983d",
   "metadata": {},
   "outputs": [],
   "source": []
  }
 ],
 "metadata": {
  "kernelspec": {
   "display_name": "Python [conda env:base] *",
   "language": "python",
   "name": "conda-base-py"
  },
  "language_info": {
   "codemirror_mode": {
    "name": "ipython",
    "version": 3
   },
   "file_extension": ".py",
   "mimetype": "text/x-python",
   "name": "python",
   "nbconvert_exporter": "python",
   "pygments_lexer": "ipython3",
   "version": "3.12.7"
  }
 },
 "nbformat": 4,
 "nbformat_minor": 5
}
